{
  "cells": [
    {
      "cell_type": "markdown",
      "metadata": {},
      "source": [
        "# Fairness Exploration\n",
        "This notebook demonstrates how to run the evaluation pipeline and inspect fairness metrics using different mitigation methods."
      ]
    },
    {
      "cell_type": "code",
      "metadata": {},
      "execution_count": null,
      "outputs": [],
      "source": [
        "from src.evaluate_fairness import run_pipeline\n",
        "\n",
        "# Baseline\n",
        "run_pipeline(method='baseline')\n",
        "\n",
        "# Reweighting mitigation\n",
        "run_pipeline(method='reweight')"
      ]
    },
    {
      "cell_type": "code",
      "metadata": {},
      "execution_count": null,
      "outputs": [],
      "source": [
        "# Post-processing mitigation\n",
        "run_pipeline(method='postprocess')"
      ]
    }
  ],
  "metadata": {
    "kernelspec": {
      "display_name": "Python 3",
      "language": "python",
      "name": "python3"
    },
    "language_info": {
      "name": "python",
      "pygments_lexer": "ipython3"
    }
  },
  "nbformat": 4,
  "nbformat_minor": 5
}
